{
 "cells": [
  {
   "cell_type": "code",
   "execution_count": 1,
   "id": "54c8031c",
   "metadata": {},
   "outputs": [],
   "source": [
    "import pandas as pd\n",
    "\n",
    "airplan01 = pd.read_csv('airplan01.csv', sep=',', low_memory=False)\n",
    "airplan02 = pd.read_csv('airplan02.csv', sep = ',', low_memory=False)\n",
    "\n",
    "airplan = pd.merge(airplan01, airplan02, how = 'outer')\n",
    "\n",
    "airplan['Gender'] = airplan['Gender'].map({'Female':0, 'Male':1})\n",
    "airplan['Type of Travel'] = airplan['Type of Travel'].map({'Business travel':0, 'Personal Travel':1})\n",
    "airplan['Class'] = airplan['Class'].map({'Eco':0, 'Eco Plus':1, 'Business':2})\n",
    "airplan['Customer Type'] = airplan['Customer Type'].map({'disloyal Customer':0, 'Loyal Customer':1})"
   ]
  },
  {
   "cell_type": "code",
   "execution_count": 2,
   "id": "ec207a70",
   "metadata": {},
   "outputs": [],
   "source": [
    "airplan = airplan.drop(['Flight Distance','Departure Delay in Minutes','Arrival Delay in Minutes','id','Unnamed: 0','Ease of Online booking','Gate location','Checkin service','Departure/Arrival time convenient'], axis=1)"
   ]
  },
  {
   "cell_type": "code",
   "execution_count": 3,
   "id": "b8863a06",
   "metadata": {},
   "outputs": [],
   "source": [
    "airX = airplan[['Gender','Customer Type','Age','Type of Travel', 'Class', 'Inflight wifi service','Seat comfort','Inflight entertainment','On-board service','Baggage handling','Inflight service','Cleanliness']]\n",
    "airY = airplan['satisfaction']"
   ]
  },
  {
   "cell_type": "code",
   "execution_count": 4,
   "id": "21f4c601",
   "metadata": {},
   "outputs": [],
   "source": [
    "from sklearn.model_selection import train_test_split\n",
    "\n",
    "X_train, X_test, y_train, y_test = train_test_split(airX, airY, test_size=0.2, random_state=1, stratify=airY)"
   ]
  },
  {
   "cell_type": "code",
   "execution_count": 5,
   "id": "d764da45",
   "metadata": {},
   "outputs": [
    {
     "name": "stdout",
     "output_type": "stream",
     "text": [
      "Acurácia: 0.94\n"
     ]
    },
    {
     "data": {
      "image/png": "[encoded data removed]",
      "text/plain": [
       "<Figure size 432x288 with 2 Axes>"
      ]
     },
     "metadata": {
      "needs_background": "light"
     },
     "output_type": "display_data"
    }
   ],
   "source": [
    "from sklearn.tree import DecisionTreeClassifier\n",
    "from sklearn.metrics import accuracy_score\n",
    "from sklearn.metrics import confusion_matrix\n",
    "import seaborn as sns\n",
    "\n",
    "decisionTree = DecisionTreeClassifier()\n",
    "decisionTree.fit(X_train, y_train)\n",
    "\n",
    "pred = decisionTree.predict(X_test)\n",
    "\n",
    "# Matriz de confusão\n",
    "cf_matrix = confusion_matrix(y_test, pred, labels = [\"satisfied\",\"neutral or dissatisfied\"])\n",
    "sns.heatmap(cf_matrix, annot=True,fmt='0', cmap='pink')\n",
    "\n",
    "# Acurácia\n",
    "acuracia= accuracy_score(y_test, pred)\n",
    "print(\"Acurácia: {:.2f}\".format(acuracia))"
   ]
  },
  {
   "cell_type": "code",
   "execution_count": null,
   "id": "fb6701a8",
   "metadata": {},
   "outputs": [],
   "source": []
  },
  {
   "cell_type": "code",
   "execution_count": 6,
   "id": "adf3cbd7",
   "metadata": {},
   "outputs": [],
   "source": [
    "X_train, X_test, y_train, y_test = train_test_split(airX, airY, test_size=0.2, shuffle=True, stratify=airY)"
   ]
  },
  {
   "cell_type": "code",
   "execution_count": null,
   "id": "5e643eb9",
   "metadata": {},
   "outputs": [],
   "source": [
    "from sklearn.neural_network import MLPClassifier\n",
    "Rede_neural = MLPClassifier(learning_rate= 'constant', power_t=0.4, shuffle=True)\n",
    "Rede_neural.fit(X_train, y_train)"
   ]
  },
  {
   "cell_type": "code",
   "execution_count": null,
   "id": "763ed954",
   "metadata": {},
   "outputs": [],
   "source": [
    "pred = Rede_neural.predict(X_test)\n",
    "\n",
    "# Matriz de confusão\n",
    "cf_matrix = confusion_matrix(y_test, pred)\n",
    "sns.heatmap(cf_matrix, annot=True,fmt='0', cmap='pink')\n",
    "\n",
    "# Acurácia\n",
    "acuracia= accuracy_score(y_test, pred)\n",
    "print(\"Acurácia: {:.2f}\".format(acuracia))"
   ]
  },
  {
   "cell_type": "code",
   "execution_count": null,
   "id": "ec6485c2",
   "metadata": {},
   "outputs": [],
   "source": []
  }
 ],
 "metadata": {
  "kernelspec": {
   "display_name": "Python 3 (ipykernel)",
   "language": "python",
   "name": "python3"
  },
  "language_info": {
   "codemirror_mode": {
    "name": "ipython",
    "version": 3
   },
   "file_extension": ".py",
   "mimetype": "text/x-python",
   "name": "python",
   "nbconvert_exporter": "python",
   "pygments_lexer": "ipython3",
   "version": "3.9.7"
  }
 },
 "nbformat": 4,
 "nbformat_minor": 5
}
